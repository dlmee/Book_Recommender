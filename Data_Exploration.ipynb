{
 "cells": [
  {
   "cell_type": "code",
   "execution_count": 1,
   "id": "c0ea73b4",
   "metadata": {},
   "outputs": [],
   "source": [
    "import csv"
   ]
  },
  {
   "cell_type": "code",
   "execution_count": 10,
   "id": "05207aae",
   "metadata": {},
   "outputs": [],
   "source": [
    "with open('Books.csv') as file:\n",
    "    reader = csv.reader(file, delimiter = ',')\n",
    "    titles = {}\n",
    "    for line in reader:\n",
    "        titles[line[0]] = line[1]"
   ]
  },
  {
   "cell_type": "code",
   "execution_count": 14,
   "id": "57b4459f",
   "metadata": {},
   "outputs": [],
   "source": [
    "with open('Ratings.csv') as file:\n",
    "    reader = csv.reader(file, delimiter = ',')\n",
    "    data = {}\n",
    "    for line in reader:\n",
    "        try:\n",
    "            if line[0] in data: data[line[0]].append((titles[line[1]], line[2]))\n",
    "            else: data[line[0]] = [(titles[line[1]], line[2])]\n",
    "        except:continue"
   ]
  },
  {
   "cell_type": "markdown",
   "id": "2728120c",
   "metadata": {},
   "source": [
    "Code thanks to [Denise Chen](https://towardsdatascience.com/recommendation-system-matrix-factorization-d61978660b4b)"
   ]
  },
  {
   "cell_type": "code",
   "execution_count": 1,
   "id": "ba306501",
   "metadata": {},
   "outputs": [],
   "source": [
    "import numpy\n",
    "\n",
    "def matrix_factorization(R, P, Q, K, steps=1000, alpha=0.001, beta=0.02):\n",
    "    '''\n",
    "    R: rating matrix\n",
    "    P: |U| * K (User features matrix)\n",
    "    Q: |D| * K (Item features matrix)\n",
    "    K: latent features\n",
    "    steps: iterations\n",
    "    alpha: learning rate\n",
    "    beta: regularization parameter'''\n",
    "    Q = Q.T\n",
    "\n",
    "    for step in range(steps):\n",
    "        for i in range(len(R)):\n",
    "            for j in range(len(R[i])):\n",
    "                if R[i][j] > 0: #Skipping over unknown values!\n",
    "                    # calculate error\n",
    "                    eij = R[i][j] - numpy.dot(P[i,:],Q[:,j]) #The value of the cell - the dot product of relevant P and Q cells.\n",
    "                    #print(eij, R[i][j], numpy.dot(P[i,:],Q[:,j]))\n",
    "                    for k in range(K):\n",
    "                        # calculate gradient with a and beta parameter\n",
    "                        #print(P[i][k])\n",
    "                        P[i][k] = P[i][k] + alpha * (2 * eij * Q[k][j] - beta * P[i][k])\n",
    "                        #print(P[i][k])\n",
    "                        Q[k][j] = Q[k][j] + alpha * (2 * eij * P[i][k] - beta * Q[k][j])\n",
    "\n",
    "        eR = numpy.dot(P,Q)\n",
    "\n",
    "        e = 0\n",
    "\n",
    "        for i in range(len(R)):\n",
    "\n",
    "            for j in range(len(R[i])):\n",
    "\n",
    "                if R[i][j] > 0:\n",
    "\n",
    "                    e = e + pow(R[i][j] - numpy.dot(P[i,:],Q[:,j]), 2)\n",
    "\n",
    "                    for k in range(K):\n",
    "\n",
    "                        e = e + (beta/2) * (pow(P[i][k],2) + pow(Q[k][j],2))\n",
    "        # 0.001: local minimum\n",
    "        if e < 0.001: #This is just to say we've found the minimum cost!\n",
    "\n",
    "            break\n",
    "\n",
    "    return P, Q.T"
   ]
  },
  {
   "cell_type": "code",
   "execution_count": 6,
   "id": "eabc6ec5",
   "metadata": {},
   "outputs": [
    {
     "name": "stdout",
     "output_type": "stream",
     "text": [
      "[[0.6331963  0.02821366 0.79406594]\n",
      " [0.59718642 0.69803112 0.23586436]\n",
      " [0.90730732 0.11558956 0.37643335]\n",
      " [0.64878761 0.54341905 0.32792832]\n",
      " [0.78073867 0.44367831 0.6083233 ]\n",
      " [0.05791396 0.32403569 0.87369434]]\n"
     ]
    }
   ],
   "source": [
    "R = [\n",
    "\n",
    "     [5,3,0,1],\n",
    "\n",
    "     [4,0,0,1],\n",
    "\n",
    "     [1,1,0,5],\n",
    "\n",
    "     [1,0,0,4],\n",
    "\n",
    "     [0,1,5,4],\n",
    "    \n",
    "     [2,1,3,0],\n",
    "\n",
    "    ]\n",
    "\n",
    "R = numpy.array(R)\n",
    "# N: num of User\n",
    "N = len(R)\n",
    "# M: num of Movie\n",
    "M = len(R[0])\n",
    "# Num of Features\n",
    "K = 3\n",
    "\n",
    " \n",
    "P = numpy.random.rand(N,K)\n",
    "Q = numpy.random.rand(M,K)\n",
    "\n",
    " \n",
    "print(P)\n",
    "nP, nQ = matrix_factorization(R, P, Q, K)\n",
    "\n",
    "nR = numpy.dot(nP, nQ.T) #.T = Transpose"
   ]
  },
  {
   "cell_type": "code",
   "execution_count": 7,
   "id": "4a6da713",
   "metadata": {},
   "outputs": [
    {
     "name": "stdout",
     "output_type": "stream",
     "text": [
      "[[ 1.92599662 -0.25657616  1.29442948]\n",
      " [ 1.78505984  0.00634273  0.49005629]\n",
      " [ 0.5229933   1.93069177  0.77689252]\n",
      " [ 0.48903087  1.54604156  0.58084758]\n",
      " [ 0.63795735  1.40117534  1.08197632]\n",
      " [ 0.56111109  0.4559302   1.05738178]]\n",
      "[[ 1.98521307  1.13028526  0.9899724   0.37125736]\n",
      " [-0.32088427 -0.10006231  1.89974239  2.20516894]\n",
      " [ 0.86314569  0.53371398  1.50465952  0.65554288]]\n"
     ]
    }
   ],
   "source": [
    "print(nP)\n",
    "print(nQ.T)"
   ]
  },
  {
   "cell_type": "code",
   "execution_count": 8,
   "id": "835d2d92",
   "metadata": {},
   "outputs": [
    {
     "name": "stdout",
     "output_type": "stream",
     "text": [
      "[[5.02312615 2.89345429 3.36693053 0.99780066]\n",
      " [3.96467883 2.27854204 2.51657739 0.99795631]\n",
      " [1.08929596 0.81258054 5.35452467 4.96095301]\n",
      " [0.97608615 0.70805036 4.29518558 3.97160963]\n",
      " [1.75076933 1.15833483 4.92143832 4.03595657]\n",
      " [1.88029876 1.1529336  3.01263399 1.90687884]]\n"
     ]
    }
   ],
   "source": [
    "print(nR)"
   ]
  },
  {
   "cell_type": "code",
   "execution_count": null,
   "id": "47e99cc3",
   "metadata": {},
   "outputs": [],
   "source": []
  }
 ],
 "metadata": {
  "kernelspec": {
   "display_name": "Python 3 (ipykernel)",
   "language": "python",
   "name": "python3"
  },
  "language_info": {
   "codemirror_mode": {
    "name": "ipython",
    "version": 3
   },
   "file_extension": ".py",
   "mimetype": "text/x-python",
   "name": "python",
   "nbconvert_exporter": "python",
   "pygments_lexer": "ipython3",
   "version": "3.9.7"
  }
 },
 "nbformat": 4,
 "nbformat_minor": 5
}
