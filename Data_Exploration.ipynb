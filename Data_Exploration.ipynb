{
 "cells": [
  {
   "cell_type": "code",
   "execution_count": 1,
   "id": "c0ea73b4",
   "metadata": {},
   "outputs": [],
   "source": [
    "import csv"
   ]
  },
  {
   "cell_type": "code",
   "execution_count": 10,
   "id": "05207aae",
   "metadata": {},
   "outputs": [],
   "source": [
    "with open('Books.csv') as file:\n",
    "    reader = csv.reader(file, delimiter = ',')\n",
    "    titles = {}\n",
    "    for line in reader:\n",
    "        titles[line[0]] = line[1]"
   ]
  },
  {
   "cell_type": "code",
   "execution_count": 14,
   "id": "57b4459f",
   "metadata": {},
   "outputs": [],
   "source": [
    "with open('Ratings.csv') as file:\n",
    "    reader = csv.reader(file, delimiter = ',')\n",
    "    data = {}\n",
    "    for line in reader:\n",
    "        try:\n",
    "            if line[0] in data: data[line[0]].append((titles[line[1]], line[2]))\n",
    "            else: data[line[0]] = [(titles[line[1]], line[2])]\n",
    "        except:continue"
   ]
  },
  {
   "cell_type": "code",
   "execution_count": 19,
   "id": "52ad1b16",
   "metadata": {},
   "outputs": [
    {
     "name": "stdout",
     "output_type": "stream",
     "text": [
      "[('Tales of the City (Tales of the City Series, V. 1)', '0'), ('Coraline', '0'), ('Harry Potter and the Chamber of Secrets (Book 2)', '0'), ('Le Quintette de Buenos Aires', '0'), ('Bouquiner : Autobiobibliographie', '6'), ('Twist tropique', '0'), (\"L'Ã?Â®le\", '0'), (\"L'Enchanteur\", '0'), ('Le LiÃ?Â¨vre de Vatanen', '5'), ('Le poisson-scorpion', '5'), ('Le Liseur', '10'), ('Prisonniers du paradis', '0'), ('Des chrÃ?Â©tiens et des maures', '0'), ('Saga', '0'), ('La Douce empoisonneuse', '0'), ('Comme un roman', '0'), ('Les Choses communes', '0'), ('Un aller simple: Roman', '0'), (\"Cosmetique De L'Enneme\", '0'), ('Oscar et la dame rose', '0'), ('Les Vagues', '8'), ('Bilbo, Le Hobbit', '0'), ('Les Enfants de minuit', '0'), ('Azteca', '0'), ('Les RiviÃ?Â¨res pourpres', '8'), ('Le Tango des assassins', '8'), ('Nocturne indien', '5'), ('Le Bouddha de banlieue', '3'), (\"L'Histoire de Bone\", '5'), ('Et qui va promener le chien?', '5'), ('Au lit !', '0'), ('Amour, Prozac, et autres curiositÃ?Â©s', '6'), (\"Le chat qui flairait l'embrouille\", '0'), ('Anibal', '7'), ('NÃ?Â©fertiti dans un champ de canne Ã?Â\\xa0 sucre', '0'), ('Les Heures / The Hours', '10'), (\"Et Si C'Etait Vrai / If This Were Only True\", '2'), (\"Je vais bien, ne t'en fais pas\", '8'), ('Les Annales du Disque-monde, tome 12 : MÃ?Â©contes de fÃ?Â©es', '0'), ('The Nazis and the Metro', '0'), (\"Le Cycle d'Ender, tome 4 : Les Enfants de l'esprit\", '0'), (\"Le Cycle d'Ender, tome 1 : La StratÃ?Â©gie Ender\", '0'), (\"Le Cycle d'Ender, tome 2 : La Voix des morts\", '0'), (\"Le Cycle d'Ender, tome 3 : XÃ?Â©nocide\", '0'), ('Le Poulpe, numÃ?Â©ro 17 : Touche pas Ã?Â\\xa0 mes deux seins', '0'), ('Un lieu sÃ?Â»r', '0'), (\"L'arbre aux haricots\", '5'), ('Le cimetiÃ?Â¨re des Ã?Â©lÃ?Â©phants', '0'), (\"Comment faire l'amour avec un nÃ?Â¨gre sans se fatiguer\", '3'), ('Un endroit oÃ?Â¹ aller', '0'), ('La vÃ?Â©ritÃ?Â© sur Lorin Jones', '7'), ('Jeu de sociÃ?Â©tÃ?Â©', '5'), ('Changement de dÃ?Â©cor', '0'), ('Un tout petit monde', '6'), (\"J'Ã?Â©tais si timide que j'ai mordu la maÃ?Â®tresse\", '0'), ('Les bruines de Lanester', '0')]\n",
      "('Hitched', '7')\n"
     ]
    }
   ],
   "source": [
    "print(data['276929'])\n",
    "for line in data['1951']:\n",
    "    print(line)"
   ]
  },
  {
   "cell_type": "code",
   "execution_count": null,
   "id": "ba306501",
   "metadata": {},
   "outputs": [],
   "source": []
  }
 ],
 "metadata": {
  "kernelspec": {
   "display_name": "Python 3 (ipykernel)",
   "language": "python",
   "name": "python3"
  },
  "language_info": {
   "codemirror_mode": {
    "name": "ipython",
    "version": 3
   },
   "file_extension": ".py",
   "mimetype": "text/x-python",
   "name": "python",
   "nbconvert_exporter": "python",
   "pygments_lexer": "ipython3",
   "version": "3.9.7"
  }
 },
 "nbformat": 4,
 "nbformat_minor": 5
}
